{
 "cells": [
  {
   "cell_type": "markdown",
   "metadata": {},
   "source": [
    "# Maze game report \n",
    "Using **A* Algorithm** to find the shortest path from the start node to the end node.\n",
    "\n",
    "**Cost Function:** f(n) = g(n) + h(n), where:\n",
    " * g(n) is the **actual cost** to reach node n.\n",
    " * h(n) is the **heuristic cost** from n to the goal."
   ]
  },
  {
   "attachments": {
    "diagonal.png": {
     "image/png": "[encoded data removed]"
    }
   },
   "cell_type": "markdown",
   "metadata": {},
   "source": [
    "### [Diagonal distance](https://theory.stanford.edu/~amitp/GameProgramming/Heuristics.html#diagonal-distance)\n",
    "    **function heuristic(node)** =\n",
    "        dx = abs(node.x - goal.x)\n",
    "        dy = abs(node.y - goal.y)\n",
    "        return D * (dx + dy) + (D2 - 2 * D) * min(dx, dy)\n",
    "![diagonal.png](attachment:diagonal.png)"
   ]
  },
  {
   "cell_type": "code",
   "execution_count": 38,
   "metadata": {},
   "outputs": [],
   "source": [
    "# Diagonal Distance Heuristic (A* heuristic function)\n",
    "def heuristic(node, goal, D=1, D2=1.414):\n",
    "    dx = abs(node[0] - goal[0])\n",
    "    dy = abs(node[1] - goal[1])\n",
    "    return D * (dx + dy) + (D2 - 2 * D) * min(dx, dy)"
   ]
  },
  {
   "cell_type": "markdown",
   "metadata": {},
   "source": [
    "1. Representation of grids:\n",
    "   * create an empty matrix 8x8 of str type\n",
    "2. Generate random obstacles while keeping the start and end nodes constant.\n",
    "   * random obstacles(#) with a ratio(30%)"
   ]
  },
  {
   "cell_type": "code",
   "execution_count": 39,
   "metadata": {},
   "outputs": [
    {
     "name": "stdout",
     "output_type": "stream",
     "text": [
      "[['' '' '#' '' '' '' '' '']\n",
      " ['' '' '#' '' '#' '' '' '']\n",
      " ['' '' '' '' '#' '' '#' 'T']\n",
      " ['' '#' '#' '#' '' '#' '#' '']\n",
      " ['#' '#' '' '' '' '#' '' '#']\n",
      " ['' '' '' '#' 'R' '#' '#' '']\n",
      " ['' '' '' '' '#' '' '' '']\n",
      " ['#' '' '' '' '#' '#' '#' '#']]\n"
     ]
    }
   ],
   "source": [
    "import numpy as np\n",
    "import random\n",
    "\n",
    "\n",
    "Maze_Size = (8,8)\n",
    "Robot = (5,4)\n",
    "Treasure = (2,7)\n",
    "\n",
    "\n",
    "def represent_grids(size,start,end,obstacle):\n",
    "    grids = np.full(size,'', dtype=str)\n",
    "    grids[start[0]][start[1]] = 'R'\n",
    "    grids[end[0]][end[1]] = 'T'\n",
    "    for i in range(size[0]):\n",
    "        for j in range(size[1]):\n",
    "            if (i, j) != start and (i, j) != end and random.random() < obstacle:\n",
    "                grids[i][j] = '#'\n",
    "    return grids\n",
    "    \n",
    "game = represent_grids(Maze_Size,Robot,Treasure,0.3)\n",
    "print (game)"
   ]
  },
  {
   "cell_type": "markdown",
   "metadata": {},
   "source": [
    "### A* Search\n",
    "1. Initialize the `open list` with the start node.\n",
    "2. Initialize a dictionary `g_score` to store the cost.\n",
    "3. Initialize a dictionary `close_list` to track of the path.\n",
    "4. While the open list is not empty:\n",
    "   * Pop the node with the lowest `f(n)` from the open list.\n",
    "   * If `current` is the goal node, return the path\n",
    "5. For neighbor:\n",
    "   * check if is valid\n",
    "   * calculate tentative_g_score\n",
    "   * If neighbor's path is better\n",
    "     * Update `g(n)` and calc `f(n)` then add it to `open_list` \n",
    "6. return no path if the open_list is empty and the tresure wasn't reached."
   ]
  },
  {
   "cell_type": "code",
   "execution_count": 40,
   "metadata": {},
   "outputs": [],
   "source": [
    "import heapq\n",
    "\n",
    "def a_star_search(grid, start, goal):\n",
    "    # Priority queue for open nodes, starting with the start node\n",
    "    open_list = []\n",
    "    heapq.heappush(open_list, (0, start))\n",
    "    # Dictionary to store the cost to reach each node\n",
    "    g_score = {start: 0}\n",
    "    # Dictionary to track the best path\n",
    "    close_list = {} \n",
    "    # Directions (diagonal movements)\n",
    "    directions = [(0, 1), (0, -1), (1, 0), (-1, 0), (1, 1), (1, -1), (-1, 1), (-1, -1)]\n",
    "    \n",
    "    while open_list:\n",
    "        # Get the node with the lowest cost (f = g + h)\n",
    "        current_f, current = heapq.heappop(open_list)\n",
    "\n",
    "        if current == goal:\n",
    "            # Goal reached\n",
    "            path = []\n",
    "            while current in close_list:\n",
    "                path.append(current)\n",
    "                current = close_list[current]\n",
    "            path.reverse()\n",
    "            return path\n",
    "        \n",
    "        for direction in directions:\n",
    "            neighbor = (current[0] + direction[0], current[1] + direction[1])\n",
    "            if 0 <= neighbor[0] < grid.shape[0] and 0 <= neighbor[1] < grid.shape[1]: # invalid location \n",
    "                if grid[neighbor[0]][neighbor[1]] == '#':  # Skip if obstacle\n",
    "                    continue\n",
    "                \n",
    "                tentative_g_score = g_score[current] + heuristic(current, neighbor)\n",
    "                \n",
    "                # If neighbor's path is better, update the path and scores\n",
    "                if neighbor not in g_score or tentative_g_score < g_score[neighbor]:\n",
    "                    g_score[neighbor] = tentative_g_score\n",
    "                    f_score = tentative_g_score + heuristic(neighbor, goal)\n",
    "                    heapq.heappush(open_list, (f_score, neighbor))\n",
    "                    close_list[neighbor] = current\n",
    "    \n",
    "    # If no path is found\n",
    "    return None"
   ]
  },
  {
   "cell_type": "markdown",
   "metadata": {},
   "source": [
    "### Grid with the path\n",
    "1. Convert the path list into a set\n",
    "2. print (p) for path, (#) for obstacle and (-) if free."
   ]
  },
  {
   "cell_type": "code",
   "execution_count": 41,
   "metadata": {},
   "outputs": [
    {
     "name": "stdout",
     "output_type": "stream",
     "text": [
      "- - # - - - - - \n",
      "- - # - # - P - \n",
      "- - - - # P # P \n",
      "- # # # P # # - \n",
      "# # - - P # - # \n",
      "- - - # R # # - \n",
      "- - - - # - - - \n",
      "# - - - # # # # \n"
     ]
    }
   ],
   "source": [
    "def Path(grid, path):\n",
    "    path_set = set(path)\n",
    "    for i in range(grid.shape[0]):\n",
    "        for j in range(grid.shape[1]):\n",
    "            if (i, j) in path_set:\n",
    "                print('P', end=' ')\n",
    "            else:\n",
    "                print(grid[i][j] if grid[i][j] else '-', end=' ')\n",
    "        print()\n",
    "path = a_star_search(game, Robot, Treasure)\n",
    "Path(game, path)"
   ]
  },
  {
   "attachments": {
    "manhattan.png": {
     "image/png": "[encoded data removed]"
    }
   },
   "cell_type": "markdown",
   "metadata": {},
   "source": [
    "### [Manhattan Distance](https://theory.stanford.edu/~amitp/GameProgramming/Heuristics.html#manhattan-distance)\n",
    "    **function heuristic(node)** =\n",
    "        dx = abs(node.x - goal.x)\n",
    "        dy = abs(node.y - goal.y)\n",
    "        return D * (dx + dy)\n",
    "![manhattan.png](attachment:manhattan.png)"
   ]
  },
  {
   "cell_type": "markdown",
   "metadata": {},
   "source": [
    "1. change the equation of heuristic to **Manhattan**.\n",
    "2. change the direction to (UP, DOWN, RIGHT and LEFT)only :\n",
    "   * directions = [(0, 1), (0, -1), (1, 0), (-1, 0)]"
   ]
  },
  {
   "cell_type": "code",
   "execution_count": 3,
   "metadata": {},
   "outputs": [],
   "source": [
    "# Manhattan distance\n",
    "def heuristic(self, node, goal):\n",
    "        dx = abs(node[0] - goal[0])\n",
    "        dy = abs(node[1] - goal[1])\n",
    "        return  (dx + dy)\n"
   ]
  },
  {
   "attachments": {
    "image.png": {
     "image/png": "[encoded data removed]"
    }
   },
   "cell_type": "markdown",
   "metadata": {},
   "source": [
    "## Manhattan Direction simulation\n",
    "![image.png](attachment:image.png)\n",
    "\n",
    "## Diagonal Direction simulation\n",
    "![image.png](attachment:image.png)"
   ]
  }
 ],
 "metadata": {
  "kernelspec": {
   "display_name": "Python 3",
   "language": "python",
   "name": "python3"
  },
  "language_info": {
   "codemirror_mode": {
    "name": "ipython",
    "version": 3
   },
   "file_extension": ".py",
   "mimetype": "text/x-python",
   "name": "python",
   "nbconvert_exporter": "python",
   "pygments_lexer": "ipython3",
   "version": "3.10.11"
  }
 },
 "nbformat": 4,
 "nbformat_minor": 2
}
